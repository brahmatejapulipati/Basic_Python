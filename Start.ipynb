{
  "nbformat": 4,
  "nbformat_minor": 0,
  "metadata": {
    "colab": {
      "name": "Start.ipynb",
      "provenance": [],
      "collapsed_sections": [],
      "authorship_tag": "ABX9TyM7SEaoXsFawY4I/ygTosdv",
      "include_colab_link": true
    },
    "kernelspec": {
      "display_name": "Python 3",
      "name": "python3"
    },
    "language_info": {
      "name": "python"
    }
  },
  "cells": [
    {
      "cell_type": "markdown",
      "metadata": {
        "id": "view-in-github",
        "colab_type": "text"
      },
      "source": [
        "<a href=\"https://colab.research.google.com/github/brahmatejapulipati/Python_Code_Challenges/blob/main/Start.ipynb\" target=\"_parent\"><img src=\"https://colab.research.google.com/assets/colab-badge.svg\" alt=\"Open In Colab\"/></a>"
      ]
    },
    {
      "cell_type": "markdown",
      "metadata": {
        "id": "XUaZI6L6BveM"
      },
      "source": [
        "### ...Welcome..."
      ]
    },
    {
      "cell_type": "code",
      "metadata": {
        "colab": {
          "base_uri": "https://localhost:8080/"
        },
        "id": "6GZRBA2T1_OP",
        "outputId": "56558686-9591-44aa-a8ae-d2fa60c9722c"
      },
      "source": [
        "# Check\n",
        "print(f'Addition - {2 + 7}')\n",
        "print(f'Subtraction - {11 * 7}')\n",
        "print(f'Division - {10 / 2}')\n",
        "print(f'Floor Division - {3 // 2}')\n",
        "print(f'Remainder Division - {9 % 2}')\n",
        "print(f'Exponent - {7 ** 2}')"
      ],
      "execution_count": null,
      "outputs": [
        {
          "output_type": "stream",
          "text": [
            "Addition - 9\n",
            "Subtraction - 77\n",
            "Division - 5.0\n",
            "Floor Division - 1\n",
            "Remainder Division - 1\n",
            "Exponent - 49\n"
          ],
          "name": "stdout"
        }
      ]
    },
    {
      "cell_type": "markdown",
      "metadata": {
        "id": "sn0x-Eq4ChUW"
      },
      "source": [
        "#### Order of operations\n",
        "  **BEDMAS**\n",
        "  Bracket\n",
        "  Exponent\n",
        "  Division\n",
        "  Multiplication\n",
        "  Addition\n",
        "  Subtraction"
      ]
    },
    {
      "cell_type": "markdown",
      "metadata": {
        "id": "dja4af6XFtj-"
      },
      "source": [
        "### Write a python function to find all prime factors\n",
        "- `Input`: Interger Value\n",
        "- `Output`: List of prime factors\n",
        "- `Example`: Input: 630, Output: [2,3,3,5,7]"
      ]
    },
    {
      "cell_type": "code",
      "metadata": {
        "colab": {
          "base_uri": "https://localhost:8080/"
        },
        "id": "XDEhGtQT_qvL",
        "outputId": "1c7336ed-1e9e-483f-901f-26515a171a08"
      },
      "source": [
        "def get_prime_factors(number):  \n",
        "  factors = []\n",
        "  divisor = 2\n",
        "  while (divisor <= number):\n",
        "    if (number % divisor == 0):\n",
        "      factors.append(divisor)\n",
        "      number = number/divisor\n",
        "    else:\n",
        "      divisor += 1\n",
        "  return factors\n",
        "\n",
        "number = int(input('Enter a number: '))\n",
        "print(get_prime_factors(number))"
      ],
      "execution_count": null,
      "outputs": [
        {
          "output_type": "stream",
          "text": [
            "Enter a number: 13\n",
            "[13]\n"
          ],
          "name": "stdout"
        }
      ]
    },
    {
      "cell_type": "markdown",
      "metadata": {
        "id": "YxT1TR4SMjjf"
      },
      "source": [
        "### Write a function to determine if a string is a palindrome"
      ]
    },
    {
      "cell_type": "code",
      "metadata": {
        "colab": {
          "base_uri": "https://localhost:8080/"
        },
        "id": "YjsRBuWwM1ZH",
        "outputId": "e97cbddc-b4cf-4263-e739-cd97d5a42c35"
      },
      "source": [
        "def isPalindrome(s):\n",
        "  b = s[::-1]\n",
        "  return b == s\n",
        "\n",
        "# Excluding spaces, and converting all to lower case\n",
        "import re\n",
        "def is_palindrome(s):\n",
        "  s = ''.join(re.findall(r'[a-z]+', s.lower()))\n",
        "  b = s[::-1]\n",
        "  return s==b\n",
        "\n",
        "print(isPalindrome(\"aaabaaa\"))\n",
        "print(is_palindrome(\"Go hang a salami - I'm a lasagna hog'\"))"
      ],
      "execution_count": null,
      "outputs": [
        {
          "output_type": "stream",
          "text": [
            "True\n",
            "True\n"
          ],
          "name": "stdout"
        }
      ]
    },
    {
      "cell_type": "markdown",
      "metadata": {
        "id": "o7fTvCLiNVh-"
      },
      "source": [
        "### Write a function to sort the words in a string"
      ]
    },
    {
      "cell_type": "code",
      "metadata": {
        "colab": {
          "base_uri": "https://localhost:8080/"
        },
        "id": "paA4xwaqNU1L",
        "outputId": "42bdf28f-fea7-41a9-974f-b0c890b749cc"
      },
      "source": [
        "def sort_string(s):\n",
        "  words = s.split()\n",
        "  words = [w.lower() + w for w in words]\n",
        "  words.sort()\n",
        "  words = [w[len(w)//2:] for w in words]\n",
        "  return ' '.join(words)\n",
        "\n",
        "print(sort_string('String of words'))\n",
        "print(sort_string('banana ORANGE apple'))\n",
        "\n",
        "# Alternative way is to pass key argument as str.lower to sort method (words.sort(key=str.lower))"
      ],
      "execution_count": 37,
      "outputs": [
        {
          "output_type": "stream",
          "text": [
            "of String words\n",
            "apple banana ORANGE\n"
          ],
          "name": "stdout"
        }
      ]
    },
    {
      "cell_type": "markdown",
      "metadata": {
        "id": "hR91l3K4UCwn"
      },
      "source": [
        "### Write a function to find all the indices of a given element in a list [List can be nested]\n",
        "- Example: \n",
        "    * Input: [[[1,2,3],2,[1,3]],[1,2,3]], 2\n",
        "    * Output: [[0,0,1],[0,1],[1,1]]\n"
      ]
    },
    {
      "cell_type": "code",
      "metadata": {
        "colab": {
          "base_uri": "https://localhost:8080/"
        },
        "id": "Voebyla0V-Mx",
        "outputId": "bd5806b1-e2f1-4dde-f0d7-4293c29a051b"
      },
      "source": [
        "def get_indices(search_list, item):\n",
        "  indices = []\n",
        "  for i in range(len(search_list)):\n",
        "    if search_list[i] == item:\n",
        "      indices.append([i])\n",
        "    elif isinstance(search_list[i], list):\n",
        "      for j in get_indices(search_list[i], item):\n",
        "        indices.append([i]+j)\n",
        "  return indices\n",
        "\n",
        "print(get_indices([[[1,2,3],2,[1,3]],[1,2,3]],2))"
      ],
      "execution_count": 46,
      "outputs": [
        {
          "output_type": "stream",
          "text": [
            "[[0, 0, 1], [0, 1], [1, 1]]\n"
          ],
          "name": "stdout"
        }
      ]
    },
    {
      "cell_type": "markdown",
      "metadata": {
        "id": "e2-VmOvxc82A"
      },
      "source": [
        "### Waiting game"
      ]
    },
    {
      "cell_type": "code",
      "metadata": {
        "colab": {
          "base_uri": "https://localhost:8080/"
        },
        "id": "eR-ALvMPda9h",
        "outputId": "b7e09a98-fed6-4648-da30-d545eb8eaa57"
      },
      "source": [
        "import random\n",
        "import time\n",
        "\n",
        "def waiting_game():\n",
        "  target = random.randint(2,4)\n",
        "  print(f'Your target time is {target} seconds')\n",
        "  input('Press enter to begin')\n",
        "  start = time.perf_counter()\n",
        "  input(f'Press enter again after {target} seconds')\n",
        "  elapsed = time.perf_counter() - start\n",
        "\n",
        "  print('Elapsed time: {0:.3f} seconds'.format(elapsed))\n",
        "  if elapsed == target:\n",
        "    print('Unbelivable,,,Perfect timing.!!!!')\n",
        "  elif elapsed < target:\n",
        "    print('({0:.3f} seconds too fast)'.format(target - elapsed))\n",
        "  else:\n",
        "    print('({0:.3f} seconds too slow)'.format(elapsed - target))\n",
        "\n",
        "waiting_game()"
      ],
      "execution_count": 73,
      "outputs": [
        {
          "output_type": "stream",
          "text": [
            "Your target time is 3 seconds\n",
            "Press enter to begin\n",
            "Press enter again after 3 seconds\n",
            "Elapsed time: 2.399 seconds\n",
            "(0.601 seconds too fast)\n"
          ],
          "name": "stdout"
        }
      ]
    },
    {
      "cell_type": "markdown",
      "metadata": {
        "id": "cRHk2KdGiShV"
      },
      "source": [
        "### Write functions to save a dictionary to a file and load the saved dictionary from the file"
      ]
    },
    {
      "cell_type": "code",
      "metadata": {
        "colab": {
          "base_uri": "https://localhost:8080/"
        },
        "id": "L8SpDazNieVX",
        "outputId": "f08a3d90-6109-4af4-be5d-0b1e9f3e4acf"
      },
      "source": [
        "import pickle\n",
        "\n",
        "def save_dict(dic, file_path):\n",
        "  with open(file_path, 'wb') as file:\n",
        "    pickle.dump(dic, file)\n",
        "\n",
        "def load_dict(file_path):\n",
        "  with open(file_path, 'rb') as file:\n",
        "    return pickle.load(file)\n",
        "\n",
        "test_dict = {1: 'a', 2: 'b', 3: 'c'}\n",
        "save_dict(test_dict, 'text.pickle')\n",
        "print(load_dict('text.pickle'))\n"
      ],
      "execution_count": 83,
      "outputs": [
        {
          "output_type": "stream",
          "text": [
            "{1: 'a', 2: 'b', 3: 'c'}\n"
          ],
          "name": "stdout"
        }
      ]
    }
  ]
}