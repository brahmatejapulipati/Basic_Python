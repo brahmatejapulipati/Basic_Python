{
  "nbformat": 4,
  "nbformat_minor": 0,
  "metadata": {
    "colab": {
      "name": "Start.ipynb",
      "provenance": [],
      "collapsed_sections": [],
      "authorship_tag": "ABX9TyOzG6Xn/+rQTjspndFdHqio",
      "include_colab_link": true
    },
    "kernelspec": {
      "name": "python3",
      "display_name": "Python 3"
    },
    "language_info": {
      "name": "python"
    }
  },
  "cells": [
    {
      "cell_type": "markdown",
      "metadata": {
        "id": "view-in-github",
        "colab_type": "text"
      },
      "source": [
        "<a href=\"https://colab.research.google.com/github/brahmatejapulipati/Python_Code_Challenges/blob/main/Start.ipynb\" target=\"_parent\"><img src=\"https://colab.research.google.com/assets/colab-badge.svg\" alt=\"Open In Colab\"/></a>"
      ]
    },
    {
      "cell_type": "markdown",
      "metadata": {
        "id": "XUaZI6L6BveM"
      },
      "source": [
        "### ...Welcome..."
      ]
    },
    {
      "cell_type": "code",
      "metadata": {
        "colab": {
          "base_uri": "https://localhost:8080/"
        },
        "id": "6GZRBA2T1_OP",
        "outputId": "56558686-9591-44aa-a8ae-d2fa60c9722c"
      },
      "source": [
        "# Check\n",
        "print(f'Addition - {2 + 7}')\n",
        "print(f'Subtraction - {11 * 7}')\n",
        "print(f'Division - {10 / 2}')\n",
        "print(f'Floor Division - {3 // 2}')\n",
        "print(f'Remainder Division - {9 % 2}')\n",
        "print(f'Exponent - {7 ** 2}')"
      ],
      "execution_count": 7,
      "outputs": [
        {
          "output_type": "stream",
          "text": [
            "Addition - 9\n",
            "Subtraction - 77\n",
            "Division - 5.0\n",
            "Floor Division - 1\n",
            "Remainder Division - 1\n",
            "Exponent - 49\n"
          ],
          "name": "stdout"
        }
      ]
    },
    {
      "cell_type": "markdown",
      "metadata": {
        "id": "sn0x-Eq4ChUW"
      },
      "source": [
        "#### Order of operations\n",
        "  **BEDMAS**\n",
        "  Bracket\n",
        "  Exponent\n",
        "  Division\n",
        "  Multiplication\n",
        "  Addition\n",
        "  Subtraction"
      ]
    },
    {
      "cell_type": "code",
      "metadata": {
        "id": "XDEhGtQT_qvL"
      },
      "source": [
        ""
      ],
      "execution_count": null,
      "outputs": []
    }
  ]
}