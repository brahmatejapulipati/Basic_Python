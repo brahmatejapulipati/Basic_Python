{
 "metadata": {
  "language_info": {
   "codemirror_mode": {
    "name": "ipython",
    "version": 3
   },
   "file_extension": ".py",
   "mimetype": "text/x-python",
   "name": "python",
   "nbconvert_exporter": "python",
   "pygments_lexer": "ipython3",
   "version": "3.9.5"
  },
  "orig_nbformat": 4,
  "kernelspec": {
   "name": "python3",
   "display_name": "Python 3.9.5 64-bit"
  },
  "interpreter": {
   "hash": "c9d8b44231921587fc4ae4b0dea6e20fafa90b0abe611b3aaa6dc6da3bcc307f"
  }
 },
 "nbformat": 4,
 "nbformat_minor": 2,
 "cells": [
  {
   "source": [
    "# Lists"
   ],
   "cell_type": "markdown",
   "metadata": {}
  },
  {
   "cell_type": "code",
   "execution_count": 221,
   "metadata": {},
   "outputs": [
    {
     "output_type": "stream",
     "name": "stdout",
     "text": [
      "Hello World\n"
     ]
    }
   ],
   "source": [
    "print('Hello World')        "
   ]
  },
  {
   "source": [
    "Exercise 1: Given two lists create a third list by picking an odd-index element from the first list and even index elements from the second."
   ],
   "cell_type": "markdown",
   "metadata": {}
  },
  {
   "cell_type": "code",
   "execution_count": 222,
   "metadata": {},
   "outputs": [
    {
     "output_type": "execute_result",
     "data": {
      "text/plain": [
       "[6, 12, 18, 4, 12, 20, 28]"
      ]
     },
     "metadata": {},
     "execution_count": 222
    }
   ],
   "source": [
    "listOne = [3, 6, 9, 12, 15, 18, 21]\n",
    "listTwo = [4, 8, 12, 16, 20, 24, 28]\n",
    "\n",
    "list(filter(lambda x: listOne.index(x) % 2 != 0, listOne)) + list(filter(lambda x: listTwo.index(x) % 2 == 0, listTwo))"
   ]
  },
  {
   "source": [
    " Exercise 2: Given a list, remove the element at index 4 and add it to the 2nd position and at the end of the list"
   ],
   "cell_type": "markdown",
   "metadata": {}
  },
  {
   "cell_type": "code",
   "execution_count": 223,
   "metadata": {},
   "outputs": [
    {
     "output_type": "stream",
     "name": "stdout",
     "text": [
      "11\n"
     ]
    },
    {
     "output_type": "execute_result",
     "data": {
      "text/plain": [
       "[34, 54, 11, 67, 89, 43, 94, 11]"
      ]
     },
     "metadata": {},
     "execution_count": 223
    }
   ],
   "source": [
    "list1 = [34, 54, 67, 89, 11, 43, 94]\n",
    "\n",
    "element = list1.pop(4)\n",
    "print(element)\n",
    "list1.insert(2, element)\n",
    "list1.append(element)\n",
    "\n",
    "list1"
   ]
  },
  {
   "source": [
    "Exercise 3: Given a list slice it into 3 equal chunks and reverse each chunk"
   ],
   "cell_type": "markdown",
   "metadata": {}
  },
  {
   "cell_type": "code",
   "execution_count": 224,
   "metadata": {},
   "outputs": [
    {
     "output_type": "stream",
     "name": "stdout",
     "text": [
      "[8, 45, 11, 12, 14, 23, 89, 45, 78]\n"
     ]
    }
   ],
   "source": [
    "sampleList = [11, 45, 8, 23, 14, 12, 78, 45, 89]\n",
    "n = k = 3\n",
    "newList = []\n",
    "\n",
    "for i in range(len(sampleList)//n):\n",
    "    if(i == 0):\n",
    "        newList.extend(sampleList[k-1::-1])\n",
    "    else:\n",
    "        newList.extend(sampleList[k-1:k-n-1:-1])\n",
    "    k = k + n\n",
    "print(newList)"
   ]
  },
  {
   "source": [
    "Exercise 4: Iterate a given list and count the occurrence of each element and create a dictionary to show the count of each element"
   ],
   "cell_type": "markdown",
   "metadata": {}
  },
  {
   "cell_type": "code",
   "execution_count": 225,
   "metadata": {},
   "outputs": [
    {
     "output_type": "stream",
     "name": "stdout",
     "text": [
      "{8: 1, 11: 2, 45: 3, 23: 2, 89: 1}\n"
     ]
    }
   ],
   "source": [
    "list = [11, 45, 8, 11, 23, 45, 23, 45, 89]\n",
    "dic = {}\n",
    "\n",
    "for i in set(list):\n",
    "    dic[i] =list.count(i)\n",
    "\n",
    "print(dic)"
   ]
  },
  {
   "source": [
    "Exercise 5: Given a two list of equal size create a Python set such that it shows the element from both lists in the pair"
   ],
   "cell_type": "markdown",
   "metadata": {}
  },
  {
   "cell_type": "code",
   "execution_count": 226,
   "metadata": {},
   "outputs": [
    {
     "output_type": "stream",
     "name": "stdout",
     "text": [
      "{(7, 49), (2, 4), (4, 16), (8, 64), (6, 36), (3, 9), (5, 25)}\n"
     ]
    }
   ],
   "source": [
    "l1 =  [2, 3, 4, 5, 6, 7, 8]\n",
    "l2 = [4, 9, 16, 25, 36, 49, 64]\n",
    "\n",
    "print(set(zip(l1, l2)))"
   ]
  },
  {
   "source": [
    "Exercise 6: Given the following two sets find the intersection and remove those elements from the first set"
   ],
   "cell_type": "markdown",
   "metadata": {}
  },
  {
   "cell_type": "code",
   "execution_count": 227,
   "metadata": {},
   "outputs": [
    {
     "output_type": "stream",
     "name": "stdout",
     "text": [
      "{65, 42, 78, 23}\n{65, 23, 42, 78}\n"
     ]
    }
   ],
   "source": [
    "FirstSet = {65, 42, 78, 83, 23, 57, 29}\n",
    "SecondSet = {67, 73, 43, 48, 83, 57, 29}\n",
    "\n",
    "Common = FirstSet & SecondSet\n",
    "print(FirstSet - Common)\n",
    "\n",
    "Intersect = FirstSet.intersection(SecondSet)\n",
    "for i in Intersect:\n",
    "    FirstSet.remove(i)\n",
    "\n",
    "print(FirstSet)"
   ]
  },
  {
   "source": [
    "Exercise 7: Given two sets, Checks if One Set is a subset or superset of another Set. if the subset is found delete all elements from that set"
   ],
   "cell_type": "markdown",
   "metadata": {}
  },
  {
   "cell_type": "code",
   "execution_count": 228,
   "metadata": {},
   "outputs": [
    {
     "output_type": "stream",
     "name": "stdout",
     "text": [
      "firstSet is subset of secondSet True\nsecondSet is subset of firstSet False\n\nfirstSet is superset of secondSet False\nsecondSet is superset of firstSet True\nset()\n{48, 34, 53, 22, 27, 43, 93}\n"
     ]
    }
   ],
   "source": [
    "firstSet = {27, 43, 34}\n",
    "secondSet = {34, 93, 22, 27, 43, 53, 48}\n",
    "\n",
    "print(f'firstSet is subset of secondSet { firstSet.issubset(secondSet) }')\n",
    "print(f'secondSet is subset of firstSet { secondSet.issubset(firstSet) }\\n')\n",
    "\n",
    "print(f'firstSet is superset of secondSet { firstSet.issuperset(secondSet) }')\n",
    "print(f'secondSet is superset of firstSet { secondSet.issuperset(firstSet) }')\n",
    "\n",
    "if(firstSet.issubset(secondSet)):\n",
    "    firstSet.clear()\n",
    "\n",
    "if(secondSet.issubset(firstSet)):\n",
    "    secondSet.clear()\n",
    "\n",
    "print(firstSet)\n",
    "print(secondSet)"
   ]
  },
  {
   "source": [
    "Exercise 8: Iterate a given list and Check if a given element already exists in a dictionary as a key’s value if not delete it from the list"
   ],
   "cell_type": "markdown",
   "metadata": {}
  },
  {
   "cell_type": "code",
   "execution_count": 229,
   "metadata": {},
   "outputs": [
    {
     "output_type": "stream",
     "name": "stdout",
     "text": [
      "[47, 69, 76, 97]\n"
     ]
    }
   ],
   "source": [
    "rollNumber = [47,64,69,37,76,83,95,97]\n",
    "sampleDict ={'Jhon':47, 'Emma':69, 'Kelly':76, 'Jason':97}\n",
    "\n",
    "rollNumber[:] = [i for i in rollNumber if i in sampleDict.values()]\n",
    "\n",
    "print(rollNumber)\n"
   ]
  },
  {
   "source": [
    "Exercise 9: Given a dictionary get all values from the dictionary and add them to a list but don’t add duplicates"
   ],
   "cell_type": "markdown",
   "metadata": {}
  },
  {
   "cell_type": "code",
   "execution_count": 230,
   "metadata": {},
   "outputs": [
    {
     "output_type": "stream",
     "name": "stdout",
     "text": [
      "[44, 47, 52, 53, 54]\n"
     ]
    }
   ],
   "source": [
    "speed ={'jan':47, 'feb':52, 'march':47, 'April':44, 'May':52, 'June':53, 'july':54, 'Aug':44, 'Sept':54}\n",
    "newlist = []\n",
    "\n",
    "for i in set(speed.values()):\n",
    "    newlist.append(i)\n",
    "\n",
    "print(newlist)"
   ]
  },
  {
   "source": [
    "Exercise 10: Remove duplicate from a list and create a tuple and find the minimum and maximum number"
   ],
   "cell_type": "markdown",
   "metadata": {}
  },
  {
   "cell_type": "code",
   "execution_count": 231,
   "metadata": {},
   "outputs": [
    {
     "output_type": "stream",
     "name": "stdout",
     "text": [
      "41\n99\n"
     ]
    }
   ],
   "source": [
    "sampleList = [87, 45, 41, 65, 94, 41, 99, 94]\n",
    "\n",
    "print(min(tuple(set(sampleList))))\n",
    "print(max(tuple(set(sampleList))))"
   ]
  },
  {
   "cell_type": "code",
   "execution_count": 232,
   "metadata": {},
   "outputs": [
    {
     "output_type": "stream",
     "name": "stdout",
     "text": [
      "zara\n"
     ]
    }
   ],
   "source": [
    "list1=['xyz','zara','PYnative']\n",
    "print(max(list1))"
   ]
  },
  {
   "cell_type": "code",
   "execution_count": 233,
   "metadata": {},
   "outputs": [
    {
     "output_type": "stream",
     "name": "stdout",
     "text": [
      "40\n[20, 30, 40]\n"
     ]
    }
   ],
   "source": [
    "sampleList = [10, 20, 30, 40, 50]\n",
    "print(sampleList[-2])\n",
    "print(sampleList[-4:-1])"
   ]
  },
  {
   "cell_type": "code",
   "execution_count": 234,
   "metadata": {},
   "outputs": [
    {
     "output_type": "stream",
     "name": "stdout",
     "text": [
      "10\n[None, None, None, None, None, None, None, None, None, None]\n"
     ]
    }
   ],
   "source": [
    "l = [None] * 10\n",
    "print(len(l))\n",
    "print(l)"
   ]
  },
  {
   "cell_type": "code",
   "execution_count": 235,
   "metadata": {},
   "outputs": [
    {
     "output_type": "stream",
     "name": "stdout",
     "text": [
      "[4, 20, 24, 28]\n"
     ]
    }
   ],
   "source": [
    "aList = [4, 8, 12, 16]\n",
    "aList[1:4] = [20, 24, 28]\n",
    "print(aList)"
   ]
  },
  {
   "cell_type": "code",
   "execution_count": 236,
   "metadata": {},
   "outputs": [
    {
     "output_type": "stream",
     "name": "stdout",
     "text": [
      "[25, 10]\n"
     ]
    }
   ],
   "source": [
    "aList = [5, 10, 15, 25]\n",
    "print(aList[::-2])"
   ]
  },
  {
   "cell_type": "code",
   "execution_count": 237,
   "metadata": {},
   "outputs": [
    {
     "output_type": "stream",
     "name": "stdout",
     "text": [
      "[]\n"
     ]
    }
   ],
   "source": [
    "sampleList = [10, 20, 30, 40]\n",
    "del sampleList[0:6]\n",
    "print(sampleList)"
   ]
  },
  {
   "source": [
    "# Dictionaries"
   ],
   "cell_type": "markdown",
   "metadata": {}
  },
  {
   "source": [
    "Exercise 1: Below are the two lists convert it into the dictionary"
   ],
   "cell_type": "markdown",
   "metadata": {}
  },
  {
   "cell_type": "code",
   "execution_count": 238,
   "metadata": {},
   "outputs": [
    {
     "output_type": "execute_result",
     "data": {
      "text/plain": [
       "{'Ten': 10, 'Twenty': 20, 'Thirty': 30}"
      ]
     },
     "metadata": {},
     "execution_count": 238
    }
   ],
   "source": [
    "keys = ['Ten', 'Twenty', 'Thirty']\n",
    "values = [10, 20, 30]\n",
    "\n",
    "{i:j for i,j in zip(keys, values)}"
   ]
  },
  {
   "source": [
    "Exercise 2: Merge following two Python dictionaries into one"
   ],
   "cell_type": "markdown",
   "metadata": {}
  },
  {
   "cell_type": "code",
   "execution_count": 239,
   "metadata": {},
   "outputs": [
    {
     "output_type": "execute_result",
     "data": {
      "text/plain": [
       "{'Ten': 10, 'Twenty': 20, 'Thirty': 30, 'Fourty': 40, 'Fifty': 50}"
      ]
     },
     "metadata": {},
     "execution_count": 239
    }
   ],
   "source": [
    "dict1 = {'Ten': 10, 'Twenty': 20, 'Thirty': 30}\n",
    "dict2 = {'Thirty': 30, 'Fourty': 40, 'Fifty': 50}\n",
    "\n",
    "dict3 = { **dict1, **dict2 }\n",
    "dict3"
   ]
  },
  {
   "source": [
    "Exercise 3: Access the value of key ‘history’ from the below dict\n"
   ],
   "cell_type": "markdown",
   "metadata": {}
  },
  {
   "cell_type": "code",
   "execution_count": 240,
   "metadata": {},
   "outputs": [
    {
     "output_type": "execute_result",
     "data": {
      "text/plain": [
       "80"
      ]
     },
     "metadata": {},
     "execution_count": 240
    }
   ],
   "source": [
    "sampleDict = { \n",
    "   \"class\":{ \n",
    "      \"student\":{ \n",
    "         \"name\":\"Mike\",\n",
    "         \"marks\":{ \n",
    "            \"physics\":70,\n",
    "            \"history\":80\n",
    "         }\n",
    "      }\n",
    "   }\n",
    "}\n",
    "\n",
    "sampleDict['class']['student']['marks']['history']"
   ]
  },
  {
   "source": [
    "Exercise 4: Initialize dictionary with default values"
   ],
   "cell_type": "markdown",
   "metadata": {}
  },
  {
   "cell_type": "code",
   "execution_count": 241,
   "metadata": {},
   "outputs": [
    {
     "output_type": "execute_result",
     "data": {
      "text/plain": [
       "{'Kelly': {'designation': 'Application Developer', 'salary': 8000},\n",
       " 'Emma': {'designation': 'Application Developer', 'salary': 8000},\n",
       " 'John': {'designation': 'Application Developer', 'salary': 8000}}"
      ]
     },
     "metadata": {},
     "execution_count": 241
    }
   ],
   "source": [
    "employees = ['Kelly', 'Emma', 'John']\n",
    "defaults = {\"designation\": 'Application Developer', \"salary\": 8000 }\n",
    "\n",
    "dict.fromkeys(employees, defaults)"
   ]
  },
  {
   "source": [
    "Exercise 5: Create a new dictionary by extracting the following keys from a below dictionary"
   ],
   "cell_type": "markdown",
   "metadata": {}
  },
  {
   "cell_type": "code",
   "execution_count": 242,
   "metadata": {},
   "outputs": [
    {
     "output_type": "execute_result",
     "data": {
      "text/plain": [
       "{'name': 'Kelly', 'salary': 8000}"
      ]
     },
     "metadata": {},
     "execution_count": 242
    }
   ],
   "source": [
    "sampleDict = {\n",
    "  \"name\": \"Kelly\",\n",
    "  \"age\":25,\n",
    "  \"salary\": 8000,\n",
    "  \"city\": \"New york\"\n",
    "}\n",
    "\n",
    "keys = [\"name\", \"salary\"]\n",
    "\n",
    "newDict = {}\n",
    "\n",
    "for i in keys:\n",
    "    newDict[i] = sampleDict[i]\n",
    "\n",
    "newDict\n"
   ]
  },
  {
   "source": [
    "Exercise 6: Delete set of keys from a dictionary"
   ],
   "cell_type": "markdown",
   "metadata": {}
  },
  {
   "cell_type": "code",
   "execution_count": 243,
   "metadata": {},
   "outputs": [
    {
     "output_type": "stream",
     "name": "stdout",
     "text": [
      "{'age': 25, 'city': 'New york'}\n{'age': 25, 'city': 'New york'}\n"
     ]
    }
   ],
   "source": [
    "sampleDict = {\n",
    "  \"name\": \"Kelly\",\n",
    "  \"age\":25,\n",
    "  \"salary\": 8000,\n",
    "  \"city\": \"New york\"\n",
    "  \n",
    "}\n",
    "\n",
    "keysToRemove = [\"name\", \"salary\"]\n",
    "\n",
    "print({i: sampleDict[i] for i in sampleDict.keys() if i not in keysToRemove })\n",
    "\n",
    "print({i: sampleDict[i] for i in sampleDict.keys() - keysToRemove })"
   ]
  },
  {
   "source": [
    "Exercise 7: Check if a value 200 exists in a dictionary\n"
   ],
   "cell_type": "markdown",
   "metadata": {}
  },
  {
   "cell_type": "code",
   "execution_count": 244,
   "metadata": {},
   "outputs": [
    {
     "output_type": "stream",
     "name": "stdout",
     "text": [
      "True\n"
     ]
    }
   ],
   "source": [
    "sampleDict = {'a': 100, 'b': 200, 'c': 300}\n",
    "\n",
    "print(200 in sampleDict.values())"
   ]
  },
  {
   "source": [
    "Exercise 8: Rename key city to location in the following dictionary"
   ],
   "cell_type": "markdown",
   "metadata": {}
  },
  {
   "cell_type": "code",
   "execution_count": 245,
   "metadata": {},
   "outputs": [
    {
     "output_type": "execute_result",
     "data": {
      "text/plain": [
       "{'name': 'Kelly', 'age': 25, 'salary': 8000, 'location': 'New york'}"
      ]
     },
     "metadata": {},
     "execution_count": 245
    }
   ],
   "source": [
    "sampleDict = {\n",
    "  \"name\": \"Kelly\",\n",
    "  \"age\":25,\n",
    "  \"salary\": 8000,\n",
    "  \"city\": \"New york\"\n",
    "}\n",
    "\n",
    "sampleDict['location'] = sampleDict.pop('city')\n",
    "\n",
    "sampleDict"
   ]
  },
  {
   "source": [
    "Exercise 9: Get the key of a minimum value from the following dictionary"
   ],
   "cell_type": "markdown",
   "metadata": {}
  },
  {
   "cell_type": "code",
   "execution_count": 246,
   "metadata": {},
   "outputs": [
    {
     "output_type": "execute_result",
     "data": {
      "text/plain": [
       "'Math'"
      ]
     },
     "metadata": {},
     "execution_count": 246
    }
   ],
   "source": [
    "sampleDict = {\n",
    "  'Physics': 82,\n",
    "  'Math': 65,\n",
    "  'history': 75\n",
    "}\n",
    "\n",
    "min(sampleDict, key=sampleDict.get)"
   ]
  },
  {
   "source": [
    "Exercise 10: Change Brad’s salary to 8500 from a given Python dictionary"
   ],
   "cell_type": "markdown",
   "metadata": {}
  },
  {
   "cell_type": "code",
   "execution_count": 247,
   "metadata": {},
   "outputs": [
    {
     "output_type": "execute_result",
     "data": {
      "text/plain": [
       "{'emp1': {'name': 'Jhon', 'salary': 7500},\n",
       " 'emp2': {'name': 'Emma', 'salary': 8000},\n",
       " 'emp3': {'name': 'Brad', 'salary': 8500}}"
      ]
     },
     "metadata": {},
     "execution_count": 247
    }
   ],
   "source": [
    "sampleDict = {\n",
    "     'emp1': {'name': 'Jhon', 'salary': 7500},\n",
    "     'emp2': {'name': 'Emma', 'salary': 8000},\n",
    "     'emp3': {'name': 'Brad', 'salary': 6500}\n",
    "}\n",
    "\n",
    "sampleDict['emp3']['salary'] = 8500\n",
    "\n",
    "sampleDict"
   ]
  },
  {
   "cell_type": "code",
   "execution_count": 248,
   "metadata": {},
   "outputs": [
    {
     "output_type": "execute_result",
     "data": {
      "text/plain": [
       "75"
      ]
     },
     "metadata": {},
     "execution_count": 248
    }
   ],
   "source": [
    "student = {\n",
    "  \"name\": \"Emma\",\n",
    "  \"class\": 9,\n",
    "  \"marks\": 75\n",
    "}\n",
    "\n",
    "student['marks']"
   ]
  },
  {
   "cell_type": "code",
   "execution_count": 249,
   "metadata": {},
   "outputs": [
    {
     "output_type": "stream",
     "name": "stdout",
     "text": [
      "{'first': 1, 'second': 2, 'third': 3}\n"
     ]
    }
   ],
   "source": [
    "sampleDict = dict([\n",
    "('first', 1),\n",
    "('second', 2),\n",
    "('third', 3)\n",
    "])\n",
    "\n",
    "print(sampleDict)"
   ]
  },
  {
   "cell_type": "code",
   "execution_count": 250,
   "metadata": {},
   "outputs": [
    {
     "output_type": "execute_result",
     "data": {
      "text/plain": [
       "'27'"
      ]
     },
     "metadata": {},
     "execution_count": 250
    }
   ],
   "source": [
    "student = {1: {'name': 'Emma', 'age': '27', 'sex': 'Female'},\n",
    "           2: {'name': 'Mike', 'age': '22', 'sex': 'Male'}}\n",
    "\n",
    "student[1]['age']"
   ]
  },
  {
   "cell_type": "code",
   "execution_count": 251,
   "metadata": {},
   "outputs": [
    {
     "output_type": "error",
     "ename": "KeyError",
     "evalue": "'age'",
     "traceback": [
      "\u001b[1;31m---------------------------------------------------------------------------\u001b[0m",
      "\u001b[1;31mKeyError\u001b[0m                                  Traceback (most recent call last)",
      "\u001b[1;32m<ipython-input-251-852d04d4bea2>\u001b[0m in \u001b[0;36m<module>\u001b[1;34m\u001b[0m\n\u001b[0;32m      1\u001b[0m \u001b[0mdict1\u001b[0m \u001b[1;33m=\u001b[0m \u001b[1;33m{\u001b[0m\u001b[1;34m\"name\"\u001b[0m\u001b[1;33m:\u001b[0m \u001b[1;34m\"Mike\"\u001b[0m\u001b[1;33m,\u001b[0m \u001b[1;34m\"salary\"\u001b[0m\u001b[1;33m:\u001b[0m \u001b[1;36m8000\u001b[0m\u001b[1;33m}\u001b[0m\u001b[1;33m\u001b[0m\u001b[1;33m\u001b[0m\u001b[0m\n\u001b[1;32m----> 2\u001b[1;33m \u001b[0mtemp\u001b[0m \u001b[1;33m=\u001b[0m \u001b[0mdict1\u001b[0m\u001b[1;33m.\u001b[0m\u001b[0mpop\u001b[0m\u001b[1;33m(\u001b[0m\u001b[1;34m\"age\"\u001b[0m\u001b[1;33m)\u001b[0m\u001b[1;33m\u001b[0m\u001b[1;33m\u001b[0m\u001b[0m\n\u001b[0m\u001b[0;32m      3\u001b[0m \u001b[0mprint\u001b[0m\u001b[1;33m(\u001b[0m\u001b[0mtemp\u001b[0m\u001b[1;33m)\u001b[0m\u001b[1;33m\u001b[0m\u001b[1;33m\u001b[0m\u001b[0m\n",
      "\u001b[1;31mKeyError\u001b[0m: 'age'"
     ]
    }
   ],
   "source": [
    "dict1 = {\"name\": \"Mike\", \"salary\": 8000}\n",
    "temp = dict1.pop(\"age\")\n",
    "print(temp)"
   ]
  },
  {
   "cell_type": "code",
   "execution_count": 252,
   "metadata": {},
   "outputs": [
    {
     "output_type": "stream",
     "name": "stdout",
     "text": [
      "True\n"
     ]
    }
   ],
   "source": [
    "dict1 = {\"key1\":1, \"key2\":2}\n",
    "dict2 = {\"key2\":2, \"key1\":1}\n",
    "print(dict1 == dict2)"
   ]
  },
  {
   "cell_type": "code",
   "execution_count": null,
   "metadata": {},
   "outputs": [],
   "source": [
    "sampledict = {}\n",
    "sampledict"
   ]
  },
  {
   "cell_type": "code",
   "execution_count": null,
   "metadata": {},
   "outputs": [],
   "source": [
    "dict1 = {\"name\": \"Mike\", \"salary\": 8000}\n",
    "temp = dict1.get(\"age\")\n",
    "print(temp)"
   ]
  },
  {
   "source": [
    "# Tuples"
   ],
   "cell_type": "markdown",
   "metadata": {}
  },
  {
   "source": [
    "Exercise 1: Reverse the following tuple"
   ],
   "cell_type": "markdown",
   "metadata": {}
  },
  {
   "cell_type": "code",
   "execution_count": null,
   "metadata": {},
   "outputs": [],
   "source": [
    "aTuple = (10, 20, 30, 40, 50)\n",
    "\n",
    "aTuple[::-1]"
   ]
  },
  {
   "source": [
    "Exercise 2: Access value 20 from the following tuple\n"
   ],
   "cell_type": "markdown",
   "metadata": {}
  },
  {
   "cell_type": "code",
   "execution_count": null,
   "metadata": {},
   "outputs": [],
   "source": [
    "aTuple = (\"Orange\", [10, 20, 30], (5, 15, 25))\n",
    "\n",
    "aTuple[1][1]"
   ]
  },
  {
   "source": [
    "Exercise 3: Create a tuple with single item 50"
   ],
   "cell_type": "markdown",
   "metadata": {}
  },
  {
   "cell_type": "code",
   "execution_count": null,
   "metadata": {},
   "outputs": [],
   "source": [
    "aTuple = (50,)\n",
    "\n",
    "aTuple"
   ]
  },
  {
   "source": [
    "Exercise 4: Unpack the following tuple into 4 variables\n"
   ],
   "cell_type": "markdown",
   "metadata": {}
  },
  {
   "cell_type": "code",
   "execution_count": null,
   "metadata": {},
   "outputs": [],
   "source": [
    "aTuple = (10, 20, 30, 40)\n",
    "\n",
    "a,b,c,d = aTuple\n",
    "\n",
    "print(a,b,c,d)"
   ]
  },
  {
   "source": [
    "Exercise 5: Swap the following two tuples"
   ],
   "cell_type": "markdown",
   "metadata": {}
  },
  {
   "cell_type": "code",
   "execution_count": null,
   "metadata": {},
   "outputs": [],
   "source": [
    "tuple1 = (11, 22)\n",
    "tuple2 = (99, 88)\n",
    "\n",
    "tuple1, tuple2 = tuple2, tuple1\n",
    "\n",
    "print(tuple1, tuple2)"
   ]
  },
  {
   "source": [
    "Exercise 6: Copy element 44 and 55 from the following tuple into a new tuple"
   ],
   "cell_type": "markdown",
   "metadata": {}
  },
  {
   "cell_type": "code",
   "execution_count": null,
   "metadata": {},
   "outputs": [],
   "source": [
    "tuple1 = (11, 22, 33, 44, 55, 66)\n",
    "\n",
    "tuple2 = tuple1[3:-1]\n",
    "print(tuple2)"
   ]
  },
  {
   "source": [
    "Exercise 7: Modify the first item (22) of a list inside a following tuple to 222\n"
   ],
   "cell_type": "markdown",
   "metadata": {}
  },
  {
   "cell_type": "code",
   "execution_count": null,
   "metadata": {},
   "outputs": [],
   "source": [
    "tuple1 = (11, [22, 33], 44, 55)\n",
    "\n",
    "tuple1[1][0] = 222\n",
    "print(tuple1)"
   ]
  },
  {
   "source": [
    "Exercise 8: Sort a tuple of tuples by 2nd item\n"
   ],
   "cell_type": "markdown",
   "metadata": {}
  },
  {
   "cell_type": "code",
   "execution_count": null,
   "metadata": {},
   "outputs": [],
   "source": [
    "tuple1 = (('a', 23),('b', 37),('c', 11), ('d',29))\n",
    "\n",
    "tuple1 = tuple(sorted(tuple1, key=lambda x: x[1]))\n",
    "\n",
    "print(tuple1)"
   ]
  },
  {
   "source": [
    "Exercise 9: Counts the number of occurrences of item 50 from a tuple"
   ],
   "cell_type": "markdown",
   "metadata": {}
  },
  {
   "cell_type": "code",
   "execution_count": null,
   "metadata": {},
   "outputs": [],
   "source": [
    "tuple1 = (50, 10, 60, 70, 50)\n",
    "\n",
    "tuple1.count(50)"
   ]
  },
  {
   "source": [
    "Exercise 10: Check if all items in the following tuple are the same"
   ],
   "cell_type": "markdown",
   "metadata": {}
  },
  {
   "cell_type": "code",
   "execution_count": null,
   "metadata": {},
   "outputs": [],
   "source": [
    "tuple1 = (45, 45, 45, 45)\n",
    "\n",
    "all(i == tuple1[0] for i in tuple1)"
   ]
  },
  {
   "cell_type": "code",
   "execution_count": null,
   "metadata": {},
   "outputs": [],
   "source": [
    "tuple1 = (10, 20, 30, 40, 50, 60, 70, 80)\n",
    "#index out of range\n",
    "position= tuple1.index(10)\n",
    "print(postion)"
   ]
  },
  {
   "cell_type": "code",
   "execution_count": null,
   "metadata": {},
   "outputs": [],
   "source": [
    "import itertools\n",
    "\n",
    "tuple1 = (1, 2, 3, 4, 5)\n",
    "tuple2 = (3, 4, 5, 6, 7)\n",
    "\n",
    "tuple3 = tuple(item for item in itertools.chain(tuple1, tuple2))\n",
    "print(tuple3)"
   ]
  },
  {
   "cell_type": "code",
   "execution_count": null,
   "metadata": {},
   "outputs": [],
   "source": [
    "tuple1 = (1120, 'a')\n",
    "print(max(tuple1))"
   ]
  },
  {
   "cell_type": "code",
   "execution_count": null,
   "metadata": {},
   "outputs": [],
   "source": [
    "aTuple = (100,)\n",
    "print(aTuple * 2)"
   ]
  },
  {
   "cell_type": "code",
   "execution_count": null,
   "metadata": {},
   "outputs": [],
   "source": [
    "aTuple = \"Yellow\", 20, \"Red\"\n",
    "a, b, c = aTuple\n",
    "print(a)"
   ]
  },
  {
   "cell_type": "code",
   "execution_count": null,
   "metadata": {},
   "outputs": [],
   "source": [
    "aTuple = (100, 200, 300, 400, 500)\n",
    "aTuple.pop(2)\n",
    "print(aTuple)"
   ]
  },
  {
   "cell_type": "code",
   "execution_count": null,
   "metadata": {},
   "outputs": [],
   "source": [
    "aTuple = (100, 200, 300, 400, 500)\n",
    "print(aTuple[-2])\n",
    "print(aTuple[-4:-1])"
   ]
  },
  {
   "cell_type": "code",
   "execution_count": null,
   "metadata": {},
   "outputs": [],
   "source": [
    "aTuple = (100, 200, 300, 400, 500)\n",
    "aTuple[1] = 800\n",
    "print(aTuple)"
   ]
  },
  {
   "source": [
    "# Nd Arrays"
   ],
   "cell_type": "markdown",
   "metadata": {}
  },
  {
   "cell_type": "code",
   "execution_count": null,
   "metadata": {},
   "outputs": [],
   "source": [
    "!pip install numpy"
   ]
  },
  {
   "cell_type": "code",
   "execution_count": null,
   "metadata": {},
   "outputs": [],
   "source": [
    "import numpy as np\n",
    "\n",
    "n = 5\n",
    "z = np.zeros([n,n],dtype=int)\n",
    "\n",
    "for i,_ in enumerate(z):\n",
    "    if i == 0:\n",
    "        z[i] = 1\n",
    "    elif i == n-1:\n",
    "        z[i] = 1\n",
    "    else:\n",
    "        z[i][n-i-1] = 1\n",
    "\n",
    "for i in z:\n",
    "    for j in i:\n",
    "        print(j, end=' ')\n",
    "    print()\n",
    "    "
   ]
  },
  {
   "cell_type": "code",
   "execution_count": null,
   "metadata": {},
   "outputs": [],
   "source": [
    "import numpy as np\n",
    "n = 5\n",
    "z = np.zeros([n,n])\n",
    "z[:,0] = z[0] = z[-1] = z[:,-1] = 1\n",
    "z\n"
   ]
  },
  {
   "cell_type": "code",
   "execution_count": null,
   "metadata": {},
   "outputs": [],
   "source": [
    "n = 5\n",
    "y = np.zeros([n,n]).flatten()\n",
    "for i,v in enumerate(y):\n",
    "    if i%2 != 0:\n",
    "        y[i] = 1\n",
    "print(y.reshape([n,n]))"
   ]
  },
  {
   "cell_type": "code",
   "execution_count": null,
   "metadata": {},
   "outputs": [],
   "source": [
    "n = 5\n",
    "x = np.zeros((n, n))\n",
    "x[1::2, ::2] = 1\n",
    "x[::2, 1::2] = 1\n",
    "x"
   ]
  },
  {
   "cell_type": "code",
   "execution_count": null,
   "metadata": {},
   "outputs": [],
   "source": [
    "s1 = \"Ault\"\n",
    "s2 = \"kelly\"\n",
    "s1[:len(s1)//2] + s2 + s1[len(s1)//2:]"
   ]
  },
  {
   "cell_type": "code",
   "execution_count": null,
   "metadata": {},
   "outputs": [],
   "source": [
    "n = 5\n",
    "x = np.zeros((n, n),dtype=int)\n",
    "x[(n//2),:] = x[:,(n//2)] = 1\n",
    "x"
   ]
  },
  {
   "cell_type": "code",
   "execution_count": null,
   "metadata": {},
   "outputs": [],
   "source": [
    "n = 5\n",
    "for i in range(0,n):\n",
    "    for j in range(0,i+1):\n",
    "        print('* ', end='')\n",
    "    print()"
   ]
  },
  {
   "cell_type": "code",
   "execution_count": null,
   "metadata": {},
   "outputs": [],
   "source": [
    "n = 5\n",
    "for i in range(1,n+1):\n",
    "   print('* ' * i)"
   ]
  },
  {
   "cell_type": "code",
   "execution_count": 289,
   "metadata": {},
   "outputs": [
    {
     "output_type": "stream",
     "name": "stdout",
     "text": [
      "        * \n      * * \n    * * * \n  * * * * \n* * * * * \n"
     ]
    }
   ],
   "source": [
    "n = 5\n",
    "for i in range(0,n):\n",
    "    for k in range(0,n-i-1):\n",
    "        print(' ', end=' ')\n",
    "    for j in range(0,i+1):\n",
    "        print('* ', end='')\n",
    "    print()"
   ]
  },
  {
   "cell_type": "code",
   "execution_count": 301,
   "metadata": {},
   "outputs": [
    {
     "output_type": "stream",
     "name": "stdout",
     "text": [
      "    * \n   * * \n  * * * \n * * * * \n* * * * * \n"
     ]
    }
   ],
   "source": [
    "n = 5\n",
    "for i in range(0,n):\n",
    "    for k in range(0,n-i-1):\n",
    "        print(' ', end='')\n",
    "    for j in range(0,i+1):\n",
    "        print('* ', end='')\n",
    "    print()"
   ]
  },
  {
   "cell_type": "code",
   "execution_count": null,
   "metadata": {},
   "outputs": [],
   "source": [
    "n = 5\n",
    "for i in range(0,n):\n",
    "    num = 1\n",
    "    for j in range(0,i+1):\n",
    "        print(f'{num} ', end='')\n",
    "        num = num + 1\n",
    "    print()"
   ]
  },
  {
   "cell_type": "code",
   "execution_count": null,
   "metadata": {},
   "outputs": [],
   "source": [
    "n = 5\n",
    "num = 1\n",
    "for i in range(0,n):\n",
    "    for j in range(0,i+1):\n",
    "        print(f'{num} ', end='')\n",
    "        num = num + 1\n",
    "    print()"
   ]
  },
  {
   "cell_type": "code",
   "execution_count": null,
   "metadata": {},
   "outputs": [],
   "source": [
    "n = 5\n",
    "for i in range(0,n):\n",
    "    num = 65\n",
    "    for j in range(0,i+1):\n",
    "        print(f'{chr(num)} ', end='')\n",
    "        num = num + 1\n",
    "    print()"
   ]
  },
  {
   "cell_type": "code",
   "execution_count": null,
   "metadata": {},
   "outputs": [],
   "source": [
    "n = 5\n",
    "num = 65\n",
    "for i in range(0,n):\n",
    "    for j in range(0,i+1):\n",
    "        print(f'{chr(num)} ', end='')\n",
    "        num = num + 1\n",
    "    print()"
   ]
  },
  {
   "cell_type": "code",
   "execution_count": null,
   "metadata": {},
   "outputs": [],
   "source": [
    "n = 5\n",
    "num = 65\n",
    "for i in range(0,n):\n",
    "    for j in range(0,i+1):\n",
    "        print(f'{chr(num)} ', end='')\n",
    "    num = num + 1\n",
    "    print()"
   ]
  },
  {
   "cell_type": "code",
   "execution_count": null,
   "metadata": {},
   "outputs": [],
   "source": [
    "rows = 6\n",
    "for i in range(1,rows):\n",
    "    for j in range(i):\n",
    "        print(i, end=\" \") # print number\n",
    "    print(\" \")"
   ]
  },
  {
   "cell_type": "code",
   "execution_count": null,
   "metadata": {},
   "outputs": [],
   "source": [
    "rows = 6\n",
    "num = 0\n",
    "for i in range(rows,0,-1):\n",
    "    num = num + 1\n",
    "    for j in range(1,i+1):\n",
    "        print(num, end=\" \") # print number\n",
    "    print(\" \")"
   ]
  },
  {
   "cell_type": "code",
   "execution_count": null,
   "metadata": {},
   "outputs": [],
   "source": [
    "rows = 5\n",
    "for i in range(rows,0,-1):\n",
    "    for j in range(1,i+1):\n",
    "        print(i, end=\" \") # print number\n",
    "    print(\" \")"
   ]
  },
  {
   "cell_type": "code",
   "execution_count": null,
   "metadata": {},
   "outputs": [],
   "source": [
    "rows = 5\n",
    "num = 5\n",
    "for i in range(rows,0,-1):\n",
    "    for j in range(1,i+1):\n",
    "        print(num, end=\" \") # print number\n",
    "    print(\" \")"
   ]
  },
  {
   "cell_type": "code",
   "execution_count": 266,
   "metadata": {},
   "outputs": [
    {
     "output_type": "stream",
     "name": "stdout",
     "text": [
      "1  \n1 2  \n1 2 3  \n1 2 3 4  \n1 2 3 4 5  \n"
     ]
    }
   ],
   "source": [
    "n = 5\n",
    "for i in range(1,n+1):\n",
    "    for j in range(i):\n",
    "        print(j+1, end=\" \")\n",
    "    print(\" \")"
   ]
  },
  {
   "cell_type": "code",
   "execution_count": 271,
   "metadata": {},
   "outputs": [
    {
     "output_type": "stream",
     "name": "stdout",
     "text": [
      "1  \n2 1  \n3 2 1  \n4 3 2 1  \n5 4 3 2 1  \n"
     ]
    }
   ],
   "source": [
    "n = 5\n",
    "for i in range(1,n+1):\n",
    "    for j in range(i,0,-1):\n",
    "        print(j, end=\" \")\n",
    "    print(\" \")"
   ]
  },
  {
   "cell_type": "code",
   "execution_count": 317,
   "metadata": {},
   "outputs": [
    {
     "output_type": "stream",
     "name": "stdout",
     "text": [
      "        1 \n      1 2 1 \n    1 2 3 2 1 \n  1 2 3 4 3 2 1 \n1 2 3 4 5 4 3 2 1 \n"
     ]
    }
   ],
   "source": [
    "n = 6\n",
    "for i in range(1,n):\n",
    "    for l in range(n-i-1):\n",
    "        print('  ',end=\"\")\n",
    "    for j in range(i):\n",
    "        print(j+1,end=\" \")\n",
    "    for k in range(i-1,0,-1):\n",
    "        print(k, end=\" \")\n",
    "    print(\"\")"
   ]
  },
  {
   "cell_type": "code",
   "execution_count": 329,
   "metadata": {},
   "outputs": [
    {
     "output_type": "stream",
     "name": "stdout",
     "text": [
      "54321\n"
     ]
    }
   ],
   "source": [
    "n = 12345\n",
    "r = 0\n",
    "\n",
    "while(n!=0):\n",
    "    r = (n%10) + (r*10)\n",
    "    n=n//10\n",
    "\n",
    "print(r)"
   ]
  },
  {
   "cell_type": "code",
   "execution_count": 4,
   "metadata": {},
   "outputs": [
    {
     "output_type": "stream",
     "name": "stdout",
     "text": [
      "    *\n   *_*\n  *_*_*\n *_*_*_*\n*_*_*_*_*\n"
     ]
    }
   ],
   "source": [
    "n = 5\n",
    "for i in range(1, n+1):\n",
    "    for j in range(n-i):\n",
    "        print(end=\" \")\n",
    "    for j in range(i-1):\n",
    "        print('*_', end=\"\")\n",
    "    print(\"*\")"
   ]
  },
  {
   "cell_type": "code",
   "execution_count": 33,
   "metadata": {},
   "outputs": [
    {
     "output_type": "stream",
     "name": "stdout",
     "text": [
      "['GHI', 'GHIJ', 'GHIJK']\n3\nGHI\n"
     ]
    }
   ],
   "source": [
    "l = ['GHI', 'GHIJ', 'GHIJK'] \n",
    "l.sort() \n",
    "print(l)\n",
    "min_value = min(len(l[0]), len(l[len(l) - 1])) \n",
    "print(min_value)\n",
    "i = 0 \n",
    "while (i < min_value and l[0][i] == l[len(l) - 1][i]): \n",
    "    i += 1 \n",
    "    pre = l[0][0: i] \n",
    "print(pre)\n"
   ]
  },
  {
   "cell_type": "code",
   "execution_count": 38,
   "metadata": {},
   "outputs": [
    {
     "output_type": "execute_result",
     "data": {
      "text/plain": [
       "'abc'"
      ]
     },
     "metadata": {},
     "execution_count": 38
    }
   ],
   "source": [
    "a = \"bca\"\n",
    "l[:] = [i for i in a]\n",
    "l.sort()\n",
    "\"\".join(l)"
   ]
  },
  {
   "cell_type": "code",
   "execution_count": 17,
   "metadata": {},
   "outputs": [
    {
     "output_type": "stream",
     "name": "stdout",
     "text": [
      "[[1 1 1 1 1]\n [0 0 0 1 0]\n [0 0 1 0 0]\n [0 1 0 0 0]\n [1 1 1 1 1]]\n"
     ]
    }
   ],
   "source": [
    "import numpy as np\n",
    "n = int(input())\n",
    "z = np.zeros([n,n],dtype=int)\n",
    "z[0] = z[-1] = 1\n",
    "np.fill_diagonal(np.flipud(z),1)\n",
    "print(z)"
   ]
  },
  {
   "cell_type": "code",
   "execution_count": 18,
   "metadata": {},
   "outputs": [
    {
     "output_type": "execute_result",
     "data": {
      "text/plain": [
       "array([[1, 1, 1, 1, 1],\n",
       "       [1, 0, 0, 0, 1],\n",
       "       [1, 0, 0, 0, 1],\n",
       "       [1, 0, 0, 0, 1],\n",
       "       [1, 1, 1, 1, 1]])"
      ]
     },
     "metadata": {},
     "execution_count": 18
    }
   ],
   "source": [
    "n = int(input())\n",
    "a = np.zeros([n-2,n-2],dtype=int)\n",
    "np.pad(a,pad_width=1,constant_values = 1)"
   ]
  }
 ]
}